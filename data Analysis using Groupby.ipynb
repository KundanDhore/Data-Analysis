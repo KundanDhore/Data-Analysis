{
 "cells": [
  {
   "cell_type": "code",
   "execution_count": 1,
   "id": "7866c888",
   "metadata": {},
   "outputs": [],
   "source": [
    "import numpy as np\n",
    "import pandas as pd"
   ]
  },
  {
   "cell_type": "code",
   "execution_count": 2,
   "id": "d9ad4da9",
   "metadata": {},
   "outputs": [],
   "source": [
    "df = pd.read_csv('playstore.csv')"
   ]
  },
  {
   "cell_type": "code",
   "execution_count": 3,
   "id": "765f7f4e",
   "metadata": {},
   "outputs": [
    {
     "data": {
      "text/html": [
       "<div>\n",
       "<style scoped>\n",
       "    .dataframe tbody tr th:only-of-type {\n",
       "        vertical-align: middle;\n",
       "    }\n",
       "\n",
       "    .dataframe tbody tr th {\n",
       "        vertical-align: top;\n",
       "    }\n",
       "\n",
       "    .dataframe thead th {\n",
       "        text-align: right;\n",
       "    }\n",
       "</style>\n",
       "<table border=\"1\" class=\"dataframe\">\n",
       "  <thead>\n",
       "    <tr style=\"text-align: right;\">\n",
       "      <th></th>\n",
       "      <th>app</th>\n",
       "      <th>category</th>\n",
       "      <th>rating</th>\n",
       "      <th>review</th>\n",
       "      <th>size</th>\n",
       "      <th>type</th>\n",
       "      <th>installs</th>\n",
       "      <th>price</th>\n",
       "      <th>content_rating</th>\n",
       "    </tr>\n",
       "  </thead>\n",
       "  <tbody>\n",
       "    <tr>\n",
       "      <th>0</th>\n",
       "      <td>Photo Editor &amp; Candy Camera &amp; Grid &amp; ScrapBook</td>\n",
       "      <td>ART_AND_DESIGN</td>\n",
       "      <td>4.1</td>\n",
       "      <td>159</td>\n",
       "      <td>19</td>\n",
       "      <td>Free</td>\n",
       "      <td>10000</td>\n",
       "      <td>0</td>\n",
       "      <td>Everyone</td>\n",
       "    </tr>\n",
       "    <tr>\n",
       "      <th>1</th>\n",
       "      <td>Coloring book moana</td>\n",
       "      <td>FAMILY</td>\n",
       "      <td>3.9</td>\n",
       "      <td>974</td>\n",
       "      <td>14</td>\n",
       "      <td>Free</td>\n",
       "      <td>500000</td>\n",
       "      <td>0</td>\n",
       "      <td>Everyone</td>\n",
       "    </tr>\n",
       "    <tr>\n",
       "      <th>2</th>\n",
       "      <td>U Launcher Lite – FREE Live Cool Themes, Hide ...</td>\n",
       "      <td>ART_AND_DESIGN</td>\n",
       "      <td>4.7</td>\n",
       "      <td>87510</td>\n",
       "      <td>8</td>\n",
       "      <td>Free</td>\n",
       "      <td>5000000</td>\n",
       "      <td>0</td>\n",
       "      <td>Everyone</td>\n",
       "    </tr>\n",
       "    <tr>\n",
       "      <th>3</th>\n",
       "      <td>Sketch - Draw &amp; Paint</td>\n",
       "      <td>ART_AND_DESIGN</td>\n",
       "      <td>4.5</td>\n",
       "      <td>215644</td>\n",
       "      <td>25</td>\n",
       "      <td>Free</td>\n",
       "      <td>50000000</td>\n",
       "      <td>0</td>\n",
       "      <td>Teen</td>\n",
       "    </tr>\n",
       "    <tr>\n",
       "      <th>4</th>\n",
       "      <td>Pixel Draw - Number Art Coloring Book</td>\n",
       "      <td>ART_AND_DESIGN</td>\n",
       "      <td>4.3</td>\n",
       "      <td>967</td>\n",
       "      <td>2</td>\n",
       "      <td>Free</td>\n",
       "      <td>100000</td>\n",
       "      <td>0</td>\n",
       "      <td>Everyone</td>\n",
       "    </tr>\n",
       "    <tr>\n",
       "      <th>...</th>\n",
       "      <td>...</td>\n",
       "      <td>...</td>\n",
       "      <td>...</td>\n",
       "      <td>...</td>\n",
       "      <td>...</td>\n",
       "      <td>...</td>\n",
       "      <td>...</td>\n",
       "      <td>...</td>\n",
       "      <td>...</td>\n",
       "    </tr>\n",
       "    <tr>\n",
       "      <th>9643</th>\n",
       "      <td>Sya9a Maroc - FR</td>\n",
       "      <td>FAMILY</td>\n",
       "      <td>4.5</td>\n",
       "      <td>38</td>\n",
       "      <td>53</td>\n",
       "      <td>Free</td>\n",
       "      <td>5000</td>\n",
       "      <td>0</td>\n",
       "      <td>Everyone</td>\n",
       "    </tr>\n",
       "    <tr>\n",
       "      <th>9644</th>\n",
       "      <td>Fr. Mike Schmitz Audio Teachings</td>\n",
       "      <td>FAMILY</td>\n",
       "      <td>5.0</td>\n",
       "      <td>4</td>\n",
       "      <td>3</td>\n",
       "      <td>Free</td>\n",
       "      <td>100</td>\n",
       "      <td>0</td>\n",
       "      <td>Everyone</td>\n",
       "    </tr>\n",
       "    <tr>\n",
       "      <th>9645</th>\n",
       "      <td>Parkinson Exercices FR</td>\n",
       "      <td>MEDICAL</td>\n",
       "      <td>4.4</td>\n",
       "      <td>3</td>\n",
       "      <td>9</td>\n",
       "      <td>Free</td>\n",
       "      <td>1000</td>\n",
       "      <td>0</td>\n",
       "      <td>Everyone</td>\n",
       "    </tr>\n",
       "    <tr>\n",
       "      <th>9646</th>\n",
       "      <td>The SCP Foundation DB fr nn5n</td>\n",
       "      <td>BOOKS_AND_REFERENCE</td>\n",
       "      <td>4.5</td>\n",
       "      <td>114</td>\n",
       "      <td>10</td>\n",
       "      <td>Free</td>\n",
       "      <td>1000</td>\n",
       "      <td>0</td>\n",
       "      <td>Mature 17+</td>\n",
       "    </tr>\n",
       "    <tr>\n",
       "      <th>9647</th>\n",
       "      <td>iHoroscope - 2018 Daily Horoscope &amp; Astrology</td>\n",
       "      <td>LIFESTYLE</td>\n",
       "      <td>4.5</td>\n",
       "      <td>398307</td>\n",
       "      <td>19</td>\n",
       "      <td>Free</td>\n",
       "      <td>10000000</td>\n",
       "      <td>0</td>\n",
       "      <td>Everyone</td>\n",
       "    </tr>\n",
       "  </tbody>\n",
       "</table>\n",
       "<p>9648 rows × 9 columns</p>\n",
       "</div>"
      ],
      "text/plain": [
       "                                                    app             category  \\\n",
       "0        Photo Editor & Candy Camera & Grid & ScrapBook       ART_AND_DESIGN   \n",
       "1                                   Coloring book moana               FAMILY   \n",
       "2     U Launcher Lite – FREE Live Cool Themes, Hide ...       ART_AND_DESIGN   \n",
       "3                                 Sketch - Draw & Paint       ART_AND_DESIGN   \n",
       "4                 Pixel Draw - Number Art Coloring Book       ART_AND_DESIGN   \n",
       "...                                                 ...                  ...   \n",
       "9643                                   Sya9a Maroc - FR               FAMILY   \n",
       "9644                   Fr. Mike Schmitz Audio Teachings               FAMILY   \n",
       "9645                             Parkinson Exercices FR              MEDICAL   \n",
       "9646                      The SCP Foundation DB fr nn5n  BOOKS_AND_REFERENCE   \n",
       "9647      iHoroscope - 2018 Daily Horoscope & Astrology            LIFESTYLE   \n",
       "\n",
       "      rating  review  size  type  installs  price content_rating  \n",
       "0        4.1     159    19  Free     10000      0       Everyone  \n",
       "1        3.9     974    14  Free    500000      0       Everyone  \n",
       "2        4.7   87510     8  Free   5000000      0       Everyone  \n",
       "3        4.5  215644    25  Free  50000000      0           Teen  \n",
       "4        4.3     967     2  Free    100000      0       Everyone  \n",
       "...      ...     ...   ...   ...       ...    ...            ...  \n",
       "9643     4.5      38    53  Free      5000      0       Everyone  \n",
       "9644     5.0       4     3  Free       100      0       Everyone  \n",
       "9645     4.4       3     9  Free      1000      0       Everyone  \n",
       "9646     4.5     114    10  Free      1000      0     Mature 17+  \n",
       "9647     4.5  398307    19  Free  10000000      0       Everyone  \n",
       "\n",
       "[9648 rows x 9 columns]"
      ]
     },
     "execution_count": 3,
     "metadata": {},
     "output_type": "execute_result"
    }
   ],
   "source": [
    "df"
   ]
  },
  {
   "cell_type": "markdown",
   "id": "4c155c5e",
   "metadata": {},
   "source": [
    "### 1. Print the number of paid and free apps"
   ]
  },
  {
   "cell_type": "code",
   "execution_count": 7,
   "id": "4fde9925",
   "metadata": {},
   "outputs": [
    {
     "data": {
      "text/plain": [
       "type\n",
       "Free    8897\n",
       "Paid     751\n",
       "dtype: int64"
      ]
     },
     "execution_count": 7,
     "metadata": {},
     "output_type": "execute_result"
    }
   ],
   "source": [
    "df.groupby('type').size()"
   ]
  },
  {
   "cell_type": "markdown",
   "id": "e2aca96c",
   "metadata": {},
   "source": [
    "### 2) List number of apps in each category"
   ]
  },
  {
   "cell_type": "code",
   "execution_count": 8,
   "id": "f7e1efb6",
   "metadata": {},
   "outputs": [
    {
     "data": {
      "text/plain": [
       "category\n",
       "ART_AND_DESIGN           60\n",
       "AUTO_AND_VEHICLES        85\n",
       "BEAUTY                   53\n",
       "BOOKS_AND_REFERENCE     221\n",
       "BUSINESS                419\n",
       "COMICS                   56\n",
       "COMMUNICATION           316\n",
       "DATING                  170\n",
       "EDUCATION               102\n",
       "ENTERTAINMENT            79\n",
       "EVENTS                   64\n",
       "FAMILY                 1902\n",
       "FINANCE                 345\n",
       "FOOD_AND_DRINK          112\n",
       "GAME                    926\n",
       "HEALTH_AND_FITNESS      287\n",
       "HOUSE_AND_HOME           73\n",
       "LIBRARIES_AND_DEMO       83\n",
       "LIFESTYLE               369\n",
       "MAPS_AND_NAVIGATION     131\n",
       "MEDICAL                 396\n",
       "NEWS_AND_MAGAZINES      254\n",
       "PARENTING                60\n",
       "PERSONALIZATION         374\n",
       "PHOTOGRAPHY             281\n",
       "PRODUCTIVITY            374\n",
       "SHOPPING                202\n",
       "SOCIAL                  239\n",
       "SPORTS                  327\n",
       "TOOLS                   827\n",
       "TRAVEL_AND_LOCAL        219\n",
       "VIDEO_PLAYERS           163\n",
       "WEATHER                  79\n",
       "dtype: int64"
      ]
     },
     "execution_count": 8,
     "metadata": {},
     "output_type": "execute_result"
    }
   ],
   "source": [
    "df.groupby('category').size()"
   ]
  },
  {
   "cell_type": "markdown",
   "id": "ee6c5a22",
   "metadata": {},
   "source": [
    "### 3) top 5 categories in terms of number of applications"
   ]
  },
  {
   "cell_type": "code",
   "execution_count": 12,
   "id": "50e924a0",
   "metadata": {},
   "outputs": [
    {
     "data": {
      "text/plain": [
       "category\n",
       "FAMILY      1902\n",
       "GAME         926\n",
       "TOOLS        827\n",
       "BUSINESS     419\n",
       "MEDICAL      396\n",
       "dtype: int64"
      ]
     },
     "execution_count": 12,
     "metadata": {},
     "output_type": "execute_result"
    }
   ],
   "source": [
    "df.groupby('category').size().sort_values(ascending = False).head()"
   ]
  },
  {
   "cell_type": "markdown",
   "id": "06c0162f",
   "metadata": {},
   "source": [
    "### 4) top 5 content rating in terms of number of applications"
   ]
  },
  {
   "cell_type": "code",
   "execution_count": 15,
   "id": "cd270165",
   "metadata": {},
   "outputs": [
    {
     "data": {
      "text/plain": [
       "content_rating\n",
       "Everyone           7893\n",
       "Teen               1036\n",
       "Mature 17+          393\n",
       "Everyone 10+        321\n",
       "Adults only 18+       3\n",
       "dtype: int64"
      ]
     },
     "execution_count": 15,
     "metadata": {},
     "output_type": "execute_result"
    }
   ],
   "source": [
    "df.groupby('content_rating').size().sort_values(ascending = False).head()"
   ]
  },
  {
   "cell_type": "markdown",
   "id": "860b9787",
   "metadata": {},
   "source": [
    "### 5) Average Price apps in each content rating"
   ]
  },
  {
   "cell_type": "code",
   "execution_count": 17,
   "id": "df9701f9",
   "metadata": {},
   "outputs": [
    {
     "data": {
      "text/plain": [
       "content_rating\n",
       "Adults only 18+     0.000000\n",
       "Everyone           92.110984\n",
       "Everyone 10+       32.616822\n",
       "Mature 17+         19.475827\n",
       "Teen               47.497104\n",
       "Unrated             0.000000\n",
       "Name: price, dtype: float64"
      ]
     },
     "execution_count": 17,
     "metadata": {},
     "output_type": "execute_result"
    }
   ],
   "source": [
    "df.groupby('content_rating')['price'].mean()"
   ]
  },
  {
   "cell_type": "markdown",
   "id": "4a91174a",
   "metadata": {},
   "source": [
    "### 6) Maximum / Minimum Price apps in each content rating "
   ]
  },
  {
   "cell_type": "code",
   "execution_count": 22,
   "id": "96ef908c",
   "metadata": {},
   "outputs": [
    {
     "name": "stdout",
     "output_type": "stream",
     "text": [
      "      maximum      \n",
      "content_rating\n",
      "Adults only 18+        0\n",
      "Everyone           30000\n",
      "Everyone 10+        1499\n",
      "Mature 17+          2249\n",
      "Teen               29999\n",
      "Unrated                0\n",
      "Name: price, dtype: int64\n"
     ]
    }
   ],
   "source": [
    "print(\"      maximum      \")\n",
    "print(df.groupby('content_rating').max()['price'])\n",
    "\n"
   ]
  },
  {
   "cell_type": "markdown",
   "id": "e165a508",
   "metadata": {},
   "source": [
    "### 7) Average no of reviews in each category"
   ]
  },
  {
   "cell_type": "code",
   "execution_count": 24,
   "id": "894af8e9",
   "metadata": {},
   "outputs": [
    {
     "data": {
      "text/plain": [
       "category\n",
       "ART_AND_DESIGN          23499.850000\n",
       "AUTO_AND_VEHICLES       13690.188235\n",
       "BEAUTY                   7476.226415\n",
       "BOOKS_AND_REFERENCE     75669.072398\n",
       "BUSINESS                23155.558473\n",
       "COMICS                  41828.553571\n",
       "COMMUNICATION          904508.914557\n",
       "DATING                  21316.705882\n",
       "EDUCATION               54741.245098\n",
       "ENTERTAINMENT          185556.772152\n",
       "EVENTS                   2515.906250\n",
       "FAMILY                 181786.452681\n",
       "FINANCE                 36703.976812\n",
       "FOOD_AND_DRINK          56482.017857\n",
       "GAME                   459221.650108\n",
       "HEALTH_AND_FITNESS      73309.456446\n",
       "HOUSE_AND_HOME          26435.465753\n",
       "LIBRARIES_AND_DEMO      10683.144578\n",
       "LIFESTYLE               32065.189702\n",
       "MAPS_AND_NAVIGATION    135268.534351\n",
       "MEDICAL                  3250.209596\n",
       "NEWS_AND_MAGAZINES      91027.149606\n",
       "PARENTING               15972.183333\n",
       "PERSONALIZATION        143133.042781\n",
       "PHOTOGRAPHY            375646.992883\n",
       "PRODUCTIVITY           148583.812834\n",
       "SHOPPING               220420.059406\n",
       "SOCIAL                 953147.962343\n",
       "SPORTS                 181672.581040\n",
       "TOOLS                  277424.084643\n",
       "TRAVEL_AND_LOCAL       122452.205479\n",
       "VIDEO_PLAYERS          413035.607362\n",
       "WEATHER                155623.367089\n",
       "Name: review, dtype: float64"
      ]
     },
     "execution_count": 24,
     "metadata": {},
     "output_type": "execute_result"
    }
   ],
   "source": [
    "df.groupby('category')['review'].mean()"
   ]
  },
  {
   "cell_type": "markdown",
   "id": "9299b575",
   "metadata": {},
   "source": [
    "### 8) Top 5 categories in terms of total number of reviews"
   ]
  },
  {
   "cell_type": "code",
   "execution_count": 27,
   "id": "cebf241e",
   "metadata": {},
   "outputs": [
    {
     "data": {
      "text/plain": [
       "category\n",
       "GAME             425239248\n",
       "FAMILY           345757833\n",
       "COMMUNICATION    285824817\n",
       "TOOLS            229429718\n",
       "SOCIAL           227802363\n",
       "Name: review, dtype: int64"
      ]
     },
     "execution_count": 27,
     "metadata": {},
     "output_type": "execute_result"
    }
   ],
   "source": [
    "df.groupby('category')['review'].sum().sort_values(ascending = False).head()"
   ]
  },
  {
   "cell_type": "code",
   "execution_count": null,
   "id": "20ee2820",
   "metadata": {},
   "outputs": [],
   "source": []
  }
 ],
 "metadata": {
  "kernelspec": {
   "display_name": "Python 3",
   "language": "python",
   "name": "python3"
  },
  "language_info": {
   "codemirror_mode": {
    "name": "ipython",
    "version": 3
   },
   "file_extension": ".py",
   "mimetype": "text/x-python",
   "name": "python",
   "nbconvert_exporter": "python",
   "pygments_lexer": "ipython3",
   "version": "3.9.1"
  }
 },
 "nbformat": 4,
 "nbformat_minor": 5
}
